{
 "cells": [
  {
   "cell_type": "markdown",
   "metadata": {},
   "source": [
    "# So easy, *voilà*!\n",
    "\n",
    "In this example notebook, we demonstrate how Voilà can render custom Jupyter widgets such as [bqplot](https://github.com/bloomberg/bqplot). "
   ]
  },
  {
   "cell_type": "code",
   "execution_count": 1,
   "metadata": {},
   "outputs": [],
   "source": [
    "import warnings\n",
    "warnings.filterwarnings('ignore')"
   ]
  },
  {
   "cell_type": "code",
   "execution_count": 3,
   "metadata": {
    "tags": []
   },
   "outputs": [
    {
     "name": "stdout",
     "output_type": "stream",
     "text": [
      "Collecting bqplot\n",
      "  Downloading bqplot-0.12.40-py2.py3-none-any.whl (1.2 MB)\n",
      "\u001b[2K     \u001b[90m━━━━━━━━━━━━━━━━━━━━━━━━━━━━━━━━━━━━━━━━\u001b[0m \u001b[32m1.2/1.2 MB\u001b[0m \u001b[31m592.3 kB/s\u001b[0m eta \u001b[36m0:00:00\u001b[0ma \u001b[36m0:00:01\u001b[0m\n",
      "\u001b[?25hRequirement already satisfied: ipywidgets<9,>=7.5.0 in /Users/effieg/anaconda3/lib/python3.11/site-packages (from bqplot) (8.0.4)\n",
      "Requirement already satisfied: traitlets>=4.3.0 in /Users/effieg/anaconda3/lib/python3.11/site-packages (from bqplot) (5.7.1)\n",
      "Collecting traittypes>=0.0.6 (from bqplot)\n",
      "  Downloading traittypes-0.2.1-py2.py3-none-any.whl (8.6 kB)\n",
      "Requirement already satisfied: numpy>=1.10.4 in /Users/effieg/anaconda3/lib/python3.11/site-packages (from bqplot) (1.24.3)\n",
      "Requirement already satisfied: pandas<3.0.0,>=1.0.0 in /Users/effieg/anaconda3/lib/python3.11/site-packages (from bqplot) (1.5.3)\n",
      "Requirement already satisfied: ipykernel>=4.5.1 in /Users/effieg/anaconda3/lib/python3.11/site-packages (from ipywidgets<9,>=7.5.0->bqplot) (6.19.2)\n",
      "Requirement already satisfied: ipython>=6.1.0 in /Users/effieg/anaconda3/lib/python3.11/site-packages (from ipywidgets<9,>=7.5.0->bqplot) (8.12.0)\n",
      "Requirement already satisfied: widgetsnbextension~=4.0 in /Users/effieg/anaconda3/lib/python3.11/site-packages (from ipywidgets<9,>=7.5.0->bqplot) (4.0.5)\n",
      "Requirement already satisfied: jupyterlab-widgets~=3.0 in /Users/effieg/anaconda3/lib/python3.11/site-packages (from ipywidgets<9,>=7.5.0->bqplot) (3.0.5)\n",
      "Requirement already satisfied: python-dateutil>=2.8.1 in /Users/effieg/anaconda3/lib/python3.11/site-packages (from pandas<3.0.0,>=1.0.0->bqplot) (2.8.2)\n",
      "Requirement already satisfied: pytz>=2020.1 in /Users/effieg/anaconda3/lib/python3.11/site-packages (from pandas<3.0.0,>=1.0.0->bqplot) (2022.7)\n",
      "Requirement already satisfied: appnope in /Users/effieg/anaconda3/lib/python3.11/site-packages (from ipykernel>=4.5.1->ipywidgets<9,>=7.5.0->bqplot) (0.1.2)\n",
      "Requirement already satisfied: comm>=0.1.1 in /Users/effieg/anaconda3/lib/python3.11/site-packages (from ipykernel>=4.5.1->ipywidgets<9,>=7.5.0->bqplot) (0.1.2)\n",
      "Requirement already satisfied: debugpy>=1.0 in /Users/effieg/anaconda3/lib/python3.11/site-packages (from ipykernel>=4.5.1->ipywidgets<9,>=7.5.0->bqplot) (1.5.1)\n",
      "Requirement already satisfied: jupyter-client>=6.1.12 in /Users/effieg/anaconda3/lib/python3.11/site-packages (from ipykernel>=4.5.1->ipywidgets<9,>=7.5.0->bqplot) (7.4.1)\n",
      "Requirement already satisfied: matplotlib-inline>=0.1 in /Users/effieg/anaconda3/lib/python3.11/site-packages (from ipykernel>=4.5.1->ipywidgets<9,>=7.5.0->bqplot) (0.1.6)\n",
      "Requirement already satisfied: nest-asyncio in /Users/effieg/anaconda3/lib/python3.11/site-packages (from ipykernel>=4.5.1->ipywidgets<9,>=7.5.0->bqplot) (1.5.6)\n",
      "Requirement already satisfied: packaging in /Users/effieg/anaconda3/lib/python3.11/site-packages (from ipykernel>=4.5.1->ipywidgets<9,>=7.5.0->bqplot) (23.0)\n",
      "Requirement already satisfied: psutil in /Users/effieg/anaconda3/lib/python3.11/site-packages (from ipykernel>=4.5.1->ipywidgets<9,>=7.5.0->bqplot) (5.9.0)\n",
      "Requirement already satisfied: pyzmq>=17 in /Users/effieg/anaconda3/lib/python3.11/site-packages (from ipykernel>=4.5.1->ipywidgets<9,>=7.5.0->bqplot) (25.1.0)\n",
      "Requirement already satisfied: tornado>=6.1 in /Users/effieg/anaconda3/lib/python3.11/site-packages (from ipykernel>=4.5.1->ipywidgets<9,>=7.5.0->bqplot) (6.2)\n",
      "Requirement already satisfied: backcall in /Users/effieg/anaconda3/lib/python3.11/site-packages (from ipython>=6.1.0->ipywidgets<9,>=7.5.0->bqplot) (0.2.0)\n",
      "Requirement already satisfied: decorator in /Users/effieg/anaconda3/lib/python3.11/site-packages (from ipython>=6.1.0->ipywidgets<9,>=7.5.0->bqplot) (5.1.1)\n",
      "Requirement already satisfied: jedi>=0.16 in /Users/effieg/anaconda3/lib/python3.11/site-packages (from ipython>=6.1.0->ipywidgets<9,>=7.5.0->bqplot) (0.18.1)\n",
      "Requirement already satisfied: pickleshare in /Users/effieg/anaconda3/lib/python3.11/site-packages (from ipython>=6.1.0->ipywidgets<9,>=7.5.0->bqplot) (0.7.5)\n",
      "Requirement already satisfied: prompt-toolkit!=3.0.37,<3.1.0,>=3.0.30 in /Users/effieg/anaconda3/lib/python3.11/site-packages (from ipython>=6.1.0->ipywidgets<9,>=7.5.0->bqplot) (3.0.36)\n",
      "Requirement already satisfied: pygments>=2.4.0 in /Users/effieg/anaconda3/lib/python3.11/site-packages (from ipython>=6.1.0->ipywidgets<9,>=7.5.0->bqplot) (2.15.1)\n",
      "Requirement already satisfied: stack-data in /Users/effieg/anaconda3/lib/python3.11/site-packages (from ipython>=6.1.0->ipywidgets<9,>=7.5.0->bqplot) (0.2.0)\n",
      "Requirement already satisfied: pexpect>4.3 in /Users/effieg/anaconda3/lib/python3.11/site-packages (from ipython>=6.1.0->ipywidgets<9,>=7.5.0->bqplot) (4.8.0)\n",
      "Requirement already satisfied: six>=1.5 in /Users/effieg/anaconda3/lib/python3.11/site-packages (from python-dateutil>=2.8.1->pandas<3.0.0,>=1.0.0->bqplot) (1.16.0)\n",
      "Requirement already satisfied: parso<0.9.0,>=0.8.0 in /Users/effieg/anaconda3/lib/python3.11/site-packages (from jedi>=0.16->ipython>=6.1.0->ipywidgets<9,>=7.5.0->bqplot) (0.8.3)\n",
      "Requirement already satisfied: entrypoints in /Users/effieg/anaconda3/lib/python3.11/site-packages (from jupyter-client>=6.1.12->ipykernel>=4.5.1->ipywidgets<9,>=7.5.0->bqplot) (0.4)\n",
      "Requirement already satisfied: jupyter-core>=4.9.2 in /Users/effieg/anaconda3/lib/python3.11/site-packages (from jupyter-client>=6.1.12->ipykernel>=4.5.1->ipywidgets<9,>=7.5.0->bqplot) (5.3.0)\n",
      "Requirement already satisfied: ptyprocess>=0.5 in /Users/effieg/anaconda3/lib/python3.11/site-packages (from pexpect>4.3->ipython>=6.1.0->ipywidgets<9,>=7.5.0->bqplot) (0.7.0)\n",
      "Requirement already satisfied: wcwidth in /Users/effieg/anaconda3/lib/python3.11/site-packages (from prompt-toolkit!=3.0.37,<3.1.0,>=3.0.30->ipython>=6.1.0->ipywidgets<9,>=7.5.0->bqplot) (0.2.5)\n",
      "Requirement already satisfied: executing in /Users/effieg/anaconda3/lib/python3.11/site-packages (from stack-data->ipython>=6.1.0->ipywidgets<9,>=7.5.0->bqplot) (0.8.3)\n",
      "Requirement already satisfied: asttokens in /Users/effieg/anaconda3/lib/python3.11/site-packages (from stack-data->ipython>=6.1.0->ipywidgets<9,>=7.5.0->bqplot) (2.0.5)\n",
      "Requirement already satisfied: pure-eval in /Users/effieg/anaconda3/lib/python3.11/site-packages (from stack-data->ipython>=6.1.0->ipywidgets<9,>=7.5.0->bqplot) (0.2.2)\n",
      "Requirement already satisfied: platformdirs>=2.5 in /Users/effieg/anaconda3/lib/python3.11/site-packages (from jupyter-core>=4.9.2->jupyter-client>=6.1.12->ipykernel>=4.5.1->ipywidgets<9,>=7.5.0->bqplot) (2.5.2)\n",
      "Installing collected packages: traittypes, bqplot\n",
      "Successfully installed bqplot-0.12.40 traittypes-0.2.1\n",
      "Note: you may need to restart the kernel to use updated packages.\n"
     ]
    }
   ],
   "source": [
    "pip install bqplot"
   ]
  },
  {
   "cell_type": "code",
   "execution_count": 4,
   "metadata": {},
   "outputs": [
    {
     "data": {
      "application/vnd.jupyter.widget-view+json": {
       "model_id": "9e3d4d1de0064db6ad7f1ace3b18cdf4",
       "version_major": 2,
       "version_minor": 0
      },
      "text/plain": [
       "VBox(children=(Figure(axes=[Axis(scale=LinearScale()), Axis(orientation='vertical', scale=LinearScale())], fig…"
      ]
     },
     "metadata": {},
     "output_type": "display_data"
    }
   ],
   "source": [
    "import numpy as np\n",
    "from bqplot import pyplot as plt\n",
    "\n",
    "plt.figure(1, title='Line Chart')\n",
    "np.random.seed(0)\n",
    "n = 200\n",
    "x = np.linspace(0.0, 10.0, n)\n",
    "y = np.cumsum(np.random.randn(n))\n",
    "plt.plot(x, y)\n",
    "plt.show()"
   ]
  },
  {
   "cell_type": "code",
   "execution_count": null,
   "metadata": {},
   "outputs": [],
   "source": []
  }
 ],
 "metadata": {
  "kernelspec": {
   "display_name": "Python 3 (ipykernel)",
   "language": "python",
   "name": "python3"
  },
  "language_info": {
   "codemirror_mode": {
    "name": "ipython",
    "version": 3
   },
   "file_extension": ".py",
   "mimetype": "text/x-python",
   "name": "python",
   "nbconvert_exporter": "python",
   "pygments_lexer": "ipython3",
   "version": "3.11.3"
  }
 },
 "nbformat": 4,
 "nbformat_minor": 4
}
